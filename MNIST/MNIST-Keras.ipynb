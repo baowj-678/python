{
 "cells": [
  {
   "cell_type": "markdown",
   "metadata": {},
   "source": [
    "# Keras构建神经网络"
   ]
  },
  {
   "cell_type": "markdown",
   "metadata": {},
   "source": [
    "## 模型构建"
   ]
  },
  {
   "cell_type": "markdown",
   "metadata": {},
   "source": [
    "### 导入依赖库"
   ]
  },
  {
   "cell_type": "code",
   "execution_count": 1,
   "metadata": {},
   "outputs": [],
   "source": [
    "import os\n",
    "import tensorflow as tf\n",
    "from tensorflow.keras import datasets, layers, models\n",
    "import numpy as np"
   ]
  },
  {
   "cell_type": "markdown",
   "metadata": {},
   "source": [
    "### 模型"
   ]
  },
  {
   "cell_type": "code",
   "execution_count": 2,
   "metadata": {},
   "outputs": [],
   "source": [
    "# 设置随机数种子\n",
    "tf.random.set_seed(42)\n",
    "np.random.seed(42)\n",
    "\n",
    "class Model(object):\n",
    "    def __init__(self):\n",
    "        model = models.Sequential()\n",
    "        # 第1层卷积，卷积核大小为3*3，32个，28*28为待训练图片的大小\n",
    "        model.add(layers.Conv2D(32, (3, 3), activation='relu', input_shape=(28, 28, 1)))\n",
    "        # 最大池化层\n",
    "        model.add(layers.MaxPooling2D((2, 2)))\n",
    "        # 第2层卷积，卷积核大小为3*3，64个\n",
    "        model.add(layers.Conv2D(64, (3, 3), activation='relu'))\n",
    "        # 最大池化层\n",
    "        model.add(layers.MaxPooling2D((2, 2)))\n",
    "        # 第3层卷积，卷积核大小为3*3，64个\n",
    "        model.add(layers.Conv2D(64, (3, 3), activation='relu'))\n",
    "        # 将二维图片拉开成一维\n",
    "        model.add(layers.Flatten())\n",
    "        model.add(layers.Dropout(0.1))\n",
    "        # 全连接层\n",
    "        model.add(layers.Dense(64, activation='tanh'))\n",
    "        model.add(layers.Dense(10, activation='softmax'))\n",
    "        model.summary()\n",
    "        self.model = model"
   ]
  },
  {
   "cell_type": "markdown",
   "metadata": {},
   "source": [
    "## 模型训练"
   ]
  },
  {
   "cell_type": "markdown",
   "metadata": {},
   "source": [
    "### 加载数据"
   ]
  },
  {
   "cell_type": "code",
   "execution_count": 3,
   "metadata": {},
   "outputs": [],
   "source": [
    "# mnist数据集存储的位置，如何不存在将自动下载\n",
    "data_path = os.path.abspath('mnist.npz')\n",
    "(train_images, train_labels), (test_images, test_labels) = datasets.mnist.load_data(path=data_path)\n",
    "\n",
    "# 6万张训练图片，1万张测试图片\n",
    "train_images = train_images.reshape((60000, 28, 28, 1))\n",
    "test_images = test_images.reshape((10000, 28, 28, 1))\n",
    "\n",
    "# 像素值映射到 0 - 1 之间\n",
    "train_images, test_images = train_images / 255.0, test_images / 255.0"
   ]
  },
  {
   "cell_type": "markdown",
   "metadata": {},
   "source": [
    "### 训练模型"
   ]
  },
  {
   "cell_type": "code",
   "execution_count": 4,
   "metadata": {},
   "outputs": [
    {
     "name": "stdout",
     "output_type": "stream",
     "text": [
      "Model: \"sequential\"\n",
      "_________________________________________________________________\n",
      "Layer (type)                 Output Shape              Param #   \n",
      "=================================================================\n",
      "conv2d (Conv2D)              (None, 26, 26, 32)        320       \n",
      "_________________________________________________________________\n",
      "max_pooling2d (MaxPooling2D) (None, 13, 13, 32)        0         \n",
      "_________________________________________________________________\n",
      "conv2d_1 (Conv2D)            (None, 11, 11, 64)        18496     \n",
      "_________________________________________________________________\n",
      "max_pooling2d_1 (MaxPooling2 (None, 5, 5, 64)          0         \n",
      "_________________________________________________________________\n",
      "conv2d_2 (Conv2D)            (None, 3, 3, 64)          36928     \n",
      "_________________________________________________________________\n",
      "flatten (Flatten)            (None, 576)               0         \n",
      "_________________________________________________________________\n",
      "dropout (Dropout)            (None, 576)               0         \n",
      "_________________________________________________________________\n",
      "dense (Dense)                (None, 64)                36928     \n",
      "_________________________________________________________________\n",
      "dense_1 (Dense)              (None, 10)                650       \n",
      "=================================================================\n",
      "Total params: 93,322\n",
      "Trainable params: 93,322\n",
      "Non-trainable params: 0\n",
      "_________________________________________________________________\n",
      "Epoch 1/10\n",
      "1875/1875 [==============================] - 18s 9ms/step - loss: 0.3158 - accuracy: 0.9031\n",
      "Epoch 2/10\n",
      "1875/1875 [==============================] - 18s 9ms/step - loss: 0.0466 - accuracy: 0.9856\n",
      "Epoch 3/10\n",
      "1875/1875 [==============================] - 18s 10ms/step - loss: 0.0318 - accuracy: 0.9902\n",
      "Epoch 4/10\n",
      "1875/1875 [==============================] - 18s 10ms/step - loss: 0.0247 - accuracy: 0.9923\n",
      "Epoch 5/10\n",
      "1875/1875 [==============================] - 18s 10ms/step - loss: 0.0199 - accuracy: 0.9937\n",
      "Epoch 6/10\n",
      "1875/1875 [==============================] - 19s 10ms/step - loss: 0.0160 - accuracy: 0.9947\n",
      "Epoch 7/10\n",
      "1875/1875 [==============================] - 18s 10ms/step - loss: 0.0129 - accuracy: 0.9958\n",
      "Epoch 8/10\n",
      "1875/1875 [==============================] - 19s 10ms/step - loss: 0.0108 - accuracy: 0.9966\n",
      "Epoch 9/10\n",
      "1875/1875 [==============================] - 19s 10ms/step - loss: 0.0093 - accuracy: 0.9968\n",
      "Epoch 10/10\n",
      "1875/1875 [==============================] - 19s 10ms/step - loss: 0.0093 - accuracy: 0.9970\n",
      "313/313 [==============================] - 1s 3ms/step - loss: 0.0262 - accuracy: 0.9928\n",
      "Acc: 0.9928, Total: 10000\n"
     ]
    }
   ],
   "source": [
    "# 实例化模型\n",
    "model = Model()\n",
    "# 定义优化器，损失函数，评测方法\n",
    "model.model.compile(optimizer='adam', # adam优化器\n",
    "                    loss='sparse_categorical_crossentropy', # 交叉熵损失\n",
    "                    metrics=['accuracy']) # 准确率\n",
    "# 开始训练\n",
    "model.model.fit(train_images, \n",
    "                 train_labels,\n",
    "                 epochs=10)\n",
    "# 计算测试准确率\n",
    "test_loss, test_acc = model.model.evaluate(test_images, test_labels)\n",
    "print(\"Acc: %.4f, Total: %d\" % (test_acc, len(test_labels)))"
   ]
  }
 ],
 "metadata": {
  "kernelspec": {
   "display_name": "Python 3.7.4 64-bit ('base': conda)",
   "language": "python",
   "name": "python37464bitbaseconda6d2dda8e0a8f4c399cfaba95f66e67d6"
  },
  "language_info": {
   "codemirror_mode": {
    "name": "ipython",
    "version": 3
   },
   "file_extension": ".py",
   "mimetype": "text/x-python",
   "name": "python",
   "nbconvert_exporter": "python",
   "pygments_lexer": "ipython3",
   "version": "3.7.4"
  }
 },
 "nbformat": 4,
 "nbformat_minor": 2
}
